{
 "cells": [
  {
   "cell_type": "code",
   "execution_count": 1,
   "id": "7eba4f35-ed22-4de8-8124-49f100a4a593",
   "metadata": {},
   "outputs": [],
   "source": [
    "import transformers\n",
    "from transformers import BloomForCausalLM\n",
    "from transformers import BloomForTokenClassification\n",
    "from transformers import BloomForTokenClassification\n",
    "from transformers import BloomTokenizerFast\n",
    "import torch"
   ]
  },
  {
   "cell_type": "markdown",
   "id": "5e306dd3-50db-43f1-b7ff-67c84d318535",
   "metadata": {},
   "source": [
    "# Bloom for Causal Language Modeling"
   ]
  },
  {
   "cell_type": "code",
   "execution_count": 2,
   "id": "d8879880-3c68-450b-adb1-f7a597c2f375",
   "metadata": {},
   "outputs": [],
   "source": [
    "tokenizer = BloomTokenizerFast.from_pretrained(\"bigscience/bloom-1b3\")\n",
    "model = BloomForCausalLM.from_pretrained(\"bigscience/bloom-1b3\")"
   ]
  },
  {
   "cell_type": "code",
   "execution_count": 47,
   "id": "60eb2324-38f7-4a8c-afca-683c8fce0cd2",
   "metadata": {},
   "outputs": [],
   "source": [
    "prompt = \"Ketanji opened the file and stared at its contents, she\"\n",
    "result_length = 50\n",
    "inputs = tokenizer(prompt, return_tensors=\"pt\")"
   ]
  },
  {
   "cell_type": "code",
   "execution_count": 28,
   "id": "ed9f3fef-8dbb-47ec-99a3-61e6a6c947df",
   "metadata": {},
   "outputs": [],
   "source": [
    "#outputs = model(**inputs, labels=inputs[\"input_ids\"])\n",
    "#loss = outputs.loss\n",
    "#logits = outputs.logits"
   ]
  },
  {
   "cell_type": "code",
   "execution_count": 48,
   "id": "2db68bc2-f556-4353-a40a-28db2f71cdaf",
   "metadata": {},
   "outputs": [
    {
     "name": "stdout",
     "output_type": "stream",
     "text": [
      "Ketanji opened the file and stared at its contents, she was surprised to see that the contents were not the same as the ones she had seen in the previous book. She was also surprised that she could not remember the names of the characters.\n"
     ]
    }
   ],
   "source": [
    "# Greedy Search\n",
    "print(tokenizer.decode(model.generate(inputs[\"input_ids\"], \n",
    "                       max_length=result_length,\n",
    "                       no_repeat_ngram_size=2\n",
    "                      )[0]))"
   ]
  },
  {
   "cell_type": "code",
   "execution_count": 49,
   "id": "be981c3e-ccc7-4cba-81f7-144d5c3e3d88",
   "metadata": {},
   "outputs": [
    {
     "name": "stdout",
     "output_type": "stream",
     "text": [
      "Ketanji opened the file and stared at its contents, she couldn’t help but feel a little uneasy. She wasn’t sure what to do next, but she knew she had to get out of here.</s>\n"
     ]
    }
   ],
   "source": [
    "# Beam Search\n",
    "print(tokenizer.decode(model.generate(inputs[\"input_ids\"],\n",
    "                       max_length=result_length, \n",
    "                       num_beams=2, \n",
    "                       no_repeat_ngram_size=2,\n",
    "                       early_stopping=True\n",
    "                      )[0]))"
   ]
  },
  {
   "cell_type": "code",
   "execution_count": 51,
   "id": "76b1e88d-5c47-4802-9fb1-49704155e83f",
   "metadata": {},
   "outputs": [
    {
     "name": "stdout",
     "output_type": "stream",
     "text": [
      "Ketanji opened the file and stared at its contents, she wondered whether it was any relation to her, she had never before thought about writing a book and about a character named Nando.\n",
      "In the back of the book, she was surprised to\n"
     ]
    }
   ],
   "source": [
    "# Sampling Top-k + Top-p\n",
    "print(tokenizer.decode(model.generate(inputs[\"input_ids\"],\n",
    "                       max_length=result_length, \n",
    "                       do_sample=True, \n",
    "                       top_k=50, \n",
    "                       top_p=0.9\n",
    "                      )[0]))"
   ]
  },
  {
   "cell_type": "code",
   "execution_count": null,
   "id": "e9ac70a2-a27e-4cbd-9f6c-df419784646a",
   "metadata": {},
   "outputs": [],
   "source": []
  }
 ],
 "metadata": {
  "environment": {
   "kernel": "venv",
   "name": "pytorch-gpu.1-11.m94",
   "type": "gcloud",
   "uri": "gcr.io/deeplearning-platform-release/pytorch-gpu.1-11:m94"
  },
  "kernelspec": {
   "display_name": "venv",
   "language": "python",
   "name": "venv"
  },
  "language_info": {
   "codemirror_mode": {
    "name": "ipython",
    "version": 3
   },
   "file_extension": ".py",
   "mimetype": "text/x-python",
   "name": "python",
   "nbconvert_exporter": "python",
   "pygments_lexer": "ipython3",
   "version": "3.7.12"
  }
 },
 "nbformat": 4,
 "nbformat_minor": 5
}
